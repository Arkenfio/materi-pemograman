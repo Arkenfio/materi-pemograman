{
  "nbformat": 4,
  "nbformat_minor": 0,
  "metadata": {
    "colab": {
      "provenance": [],
      "authorship_tag": "ABX9TyPY7mKtuTwk8WABwVUkhhlC",
      "include_colab_link": true
    },
    "kernelspec": {
      "name": "python3",
      "display_name": "Python 3"
    },
    "language_info": {
      "name": "python"
    }
  },
  "cells": [
    {
      "cell_type": "markdown",
      "metadata": {
        "id": "view-in-github",
        "colab_type": "text"
      },
      "source": [
        "<a href=\"https://colab.research.google.com/github/Arkenfio/materi-pemograman/blob/main/Rngkuman_Op_Bahasa_Python_8_10_24_.ipynb\" target=\"_parent\"><img src=\"https://colab.research.google.com/assets/colab-badge.svg\" alt=\"Open In Colab\"/></a>"
      ]
    },
    {
      "cell_type": "code",
      "execution_count": null,
      "metadata": {
        "id": "WVvu797KNG7R"
      },
      "outputs": [],
      "source": []
    },
    {
      "cell_type": "markdown",
      "source": [
        "OPERATOR D BAHASA PYTHON\n",
        "** Rangkuman Sederhana tentang Operator di Python**\n",
        "\n",
        "1. **Operator Aritmatika**  \n",
        "   Digunakan untuk operasi matematika dasar:  \n",
        "   - `+`  : Penjumlahan  \n",
        "   - `-`  : Pengurangan  \n",
        "   - `*`  : Perkalian  \n",
        "   - `/`  : Pembagian  \n",
        "   - `%`  : Modulus (sisa bagi)  \n",
        "   - `**` : Perpangkatan  \n",
        "   - `//` : Pembagian bulat  \n",
        "\n",
        "2. **Operator Perbandingan**  \n",
        "   Membandingkan dua nilai dan menghasilkan **True** atau **False**:  \n",
        "   - `==`  : Sama dengan  \n",
        "   - `!=`  : Tidak sama dengan  \n",
        "   - `>`   : Lebih besar dari  \n",
        "   - `<`   : Lebih kecil dari  \n",
        "   - `>=`  : Lebih besar atau sama dengan  \n",
        "   - `<=`  : Lebih kecil atau sama dengan  \n",
        "\n",
        "3. **Operator Logika**  \n",
        "   Menggabungkan pernyataan logis:  \n",
        "   - `and` : True jika kedua pernyataan benar  \n",
        "   - `or`  : True jika salah satu pernyataan benar  \n",
        "   - `not` : Membalikkan hasil logika  \n",
        "\n",
        "4. **Operator Penugasan**  \n",
        "   Memberikan nilai ke variabel:  \n",
        "   - `=`   : Penugasan  \n",
        "   - `+=`  : Penjumlahan dan penugasan  \n",
        "   - `-=`  : Pengurangan dan penugasan  \n",
        "   - `*=`  : Perkalian dan penugasan  \n",
        "   - `/=`  : Pembagian dan penugasan  \n",
        "   - `**=` : Perpangkatan dan penugasan  \n",
        "   - `//=` : Pembagian bulat dan penugasan  \n",
        "\n",
        "5. **Operator Bitwise**  \n",
        "   Operasi pada level bit:  \n",
        "   - `&`   : AND bitwise  \n",
        "   - `|`   : OR bitwise  \n",
        "   - `^`   : XOR bitwise  \n",
        "   - `~`   : NOT bitwise  \n",
        "   - `<<`  : Shift kiri  \n",
        "   - `>>`  : Shift kanan  \n",
        "\n",
        "6. **Operator Keanggotaan**  \n",
        "   Memeriksa apakah suatu nilai ada dalam kumpulan data:  \n",
        "   - `in`     : True jika nilai ada  \n",
        "   - `not in` : True jika nilai tidak ada  \n",
        "\n",
        "7. **Operator Identitas**  \n",
        "   Memeriksa apakah dua objek adalah objek yang sama di memori:  \n",
        "   - `is`     : True jika kedua variabel menunjuk objek yang sama  \n",
        "   - `is not` : True jika tidak menunjuk objek yang sama  \n",
        "\n",
        "### Kesimpulan\n",
        "Operator di Python membantu memanipulasi variabel dan nilai dengan mudah. Memahami dan menguasai penggunaan operator akan sangat membantu dalam pemrograman sehari-hari.**"
      ],
      "metadata": {
        "id": "N3MQeviUNKmr"
      }
    }
  ]
}